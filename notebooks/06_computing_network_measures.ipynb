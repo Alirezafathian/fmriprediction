{
 "cells": [
  {
   "cell_type": "markdown",
   "metadata": {},
   "source": [
    "# Computing Network Measures"
   ]
  },
  {
   "cell_type": "markdown",
   "metadata": {},
   "source": [
    "### Import"
   ]
  },
  {
   "cell_type": "code",
   "execution_count": 1,
   "metadata": {},
   "outputs": [],
   "source": [
    "import src.network_measures.network_measures as nm\n",
    "from src.data import subjects\n",
    "from config import *\n",
    "import networkx as nx"
   ]
  },
  {
   "cell_type": "markdown",
   "metadata": {},
   "source": [
    "### Finding out subjects that are not processed yet"
   ]
  },
  {
   "cell_type": "code",
   "execution_count": 4,
   "metadata": {},
   "outputs": [
    {
     "data": {
      "text/plain": [
       "[]"
      ]
     },
     "execution_count": 4,
     "metadata": {},
     "output_type": "execute_result"
    }
   ],
   "source": [
    "not_processed = subjects.to_compute_measures\n",
    "not_processed[0]\n",
    "#not_processed = [subjects.adj_constructed]"
   ]
  },
  {
   "cell_type": "code",
   "execution_count": 3,
   "metadata": {},
   "outputs": [
    {
     "data": {
      "text/plain": [
       "0"
      ]
     },
     "execution_count": 3,
     "metadata": {},
     "output_type": "execute_result"
    }
   ],
   "source": [
    "len(not_processed[0])"
   ]
  },
  {
   "cell_type": "markdown",
   "metadata": {},
   "source": [
    "### Compute and save global and local measures for both network and its giant component"
   ]
  },
  {
   "cell_type": "code",
   "execution_count": 4,
   "metadata": {
    "scrolled": false
   },
   "outputs": [],
   "source": [
    "nm.compute_measures(not_processed[0],\n",
    "                    denoising_strategies,\n",
    "                    correlation_types,\n",
    "                    thresholding_methods,\n",
    "                    thresholding_values)"
   ]
  },
  {
   "cell_type": "markdown",
   "metadata": {},
   "source": [
    "### Computing new measures and adding them to the old measures"
   ]
  },
  {
   "cell_type": "markdown",
   "metadata": {},
   "source": [
    "Defining new measure:"
   ]
  },
  {
   "cell_type": "code",
   "execution_count": 5,
   "metadata": {},
   "outputs": [],
   "source": [
    "def strength(G):\n",
    "    import networkx as nx\n",
    "    return (dict(G.degree(weight= 'weight')))"
   ]
  },
  {
   "cell_type": "markdown",
   "metadata": {},
   "source": [
    "Compute this measure and add it to the measure tabales:"
   ]
  },
  {
   "cell_type": "code",
   "execution_count": 6,
   "metadata": {
    "scrolled": false
   },
   "outputs": [],
   "source": [
    "nm.add_measure('local','disconnected','weighted',\n",
    "              strength,'strength',\n",
    "              not_processed[0],\n",
    "              denoising_strategies,\n",
    "               thresholding_methods)"
   ]
  },
  {
   "cell_type": "code",
   "execution_count": 7,
   "metadata": {},
   "outputs": [],
   "source": [
    "nm.add_measure('global','disconnected','binary',\n",
    "              nx.degree_assortativity_coefficient,\n",
    "              'degree_assortativity_coefficient',\n",
    "              not_processed[0],\n",
    "              denoising_strategies,thresholding_methods)"
   ]
  },
  {
   "cell_type": "markdown",
   "metadata": {},
   "source": [
    "### Centerality measures of negative matrices\n",
    "In this section we will compute the centerality measures of negative matrices"
   ]
  },
  {
   "cell_type": "code",
   "execution_count": 8,
   "metadata": {},
   "outputs": [
    {
     "name": "stdout",
     "output_type": "stream",
     "text": [
      "[]\n"
     ]
    }
   ],
   "source": [
    "if negative_corr:\n",
    "    not_processed = subjects.to_compute_measures_negative\n",
    "    print(not_processed[0])\n",
    "    \n",
    "    nm.compute_measures(not_processed[0],\n",
    "                        denoising_strategies,\n",
    "                        correlation_types,\n",
    "                        thresholding_methods,\n",
    "                        thresholding_values,\n",
    "                        negative_corr = True)\n",
    "#not_processed = [['002S4229', '006S4960', '013S4236']]"
   ]
  },
  {
   "cell_type": "code",
   "execution_count": 9,
   "metadata": {},
   "outputs": [],
   "source": [
    "if negative_corr:\n",
    "    nm.add_measure('local','disconnected','weighted',\n",
    "                   strength,'strength',\n",
    "                   not_processed[0],\n",
    "                   denoising_strategies,\n",
    "                   thresholding_methods,\n",
    "                   negative_corr = True)\n",
    "\n",
    "    nm.add_measure('global','disconnected','binary',\n",
    "                   nx.degree_assortativity_coefficient,\n",
    "                   'degree_assortativity_coefficient',\n",
    "                   not_processed[0],\n",
    "                   denoising_strategies,\n",
    "                   thresholding_methods,\n",
    "                   negative_corr = True)"
   ]
  },
  {
   "cell_type": "markdown",
   "metadata": {},
   "source": [
    "### Network Measures for weightd signed networks"
   ]
  },
  {
   "cell_type": "code",
   "execution_count": 2,
   "metadata": {},
   "outputs": [
    {
     "name": "stdout",
     "output_type": "stream",
     "text": [
      "✓ subject: 035S6160, Denoising Strategy: 36p, Correlation Type: glasso\n",
      "✓ subject: 041S4200, Denoising Strategy: 36p, Correlation Type: glasso\n",
      "✓ subject: 002S4251, Denoising Strategy: 36p, Correlation Type: glasso\n",
      "✓ subject: 037S4030, Denoising Strategy: 36p, Correlation Type: glasso\n",
      "✓ subject: 130S4660, Denoising Strategy: 36p, Correlation Type: glasso\n",
      "✓ subject: 006S4713, Denoising Strategy: 36p, Correlation Type: glasso\n",
      "✓ subject: 130S4589, Denoising Strategy: 36p, Correlation Type: glasso\n",
      "✓ subject: 002S4473, Denoising Strategy: 36p, Correlation Type: glasso\n",
      "✓ subject: 002S4229, Denoising Strategy: 36p, Correlation Type: glasso\n",
      "✓ subject: 168S6131, Denoising Strategy: 36p, Correlation Type: glasso\n",
      "✓ subject: 002S4225, Denoising Strategy: 36p, Correlation Type: glasso\n",
      "✓ subject: 036S4538, Denoising Strategy: 36p, Correlation Type: glasso\n",
      "✓ subject: 018S5074, Denoising Strategy: 36p, Correlation Type: glasso\n",
      "✓ subject: 006S4153, Denoising Strategy: 36p, Correlation Type: glasso\n",
      "✓ subject: 012S4188, Denoising Strategy: 36p, Correlation Type: glasso\n",
      "✓ subject: 041S4974, Denoising Strategy: 36p, Correlation Type: glasso\n",
      "✓ subject: 006S4515, Denoising Strategy: 36p, Correlation Type: glasso\n",
      "✓ subject: 011S4893, Denoising Strategy: 36p, Correlation Type: glasso\n",
      "✓ subject: 002S4237, Denoising Strategy: 36p, Correlation Type: glasso\n",
      "✓ subject: 130S4730, Denoising Strategy: 36p, Correlation Type: glasso\n",
      "✓ subject: 082S2121, Denoising Strategy: 36p, Correlation Type: glasso\n",
      "✓ subject: 020S6185, Denoising Strategy: 36p, Correlation Type: glasso\n",
      "✓ subject: 011S4547, Denoising Strategy: 36p, Correlation Type: glasso\n",
      "✓ subject: 068S4061, Denoising Strategy: 36p, Correlation Type: glasso\n",
      "✓ subject: 094S4649, Denoising Strategy: 36p, Correlation Type: glasso\n",
      "✓ subject: 002S4654, Denoising Strategy: 36p, Correlation Type: glasso\n",
      "✓ subject: 036S4430, Denoising Strategy: 36p, Correlation Type: glasso\n",
      "✓ subject: 116S6119, Denoising Strategy: 36p, Correlation Type: glasso\n",
      "✓ subject: 019S4477, Denoising Strategy: 36p, Correlation Type: glasso\n",
      "✓ subject: 002S4171, Denoising Strategy: 36p, Correlation Type: glasso\n",
      "✓ subject: 033S4176, Denoising Strategy: 36p, Correlation Type: glasso\n",
      "✓ subject: 137S4351, Denoising Strategy: 36p, Correlation Type: glasso\n",
      "✓ subject: 002S2073, Denoising Strategy: 36p, Correlation Type: glasso\n",
      "✓ subject: 036S4715, Denoising Strategy: 36p, Correlation Type: glasso\n",
      "✓ subject: 068S2184, Denoising Strategy: 36p, Correlation Type: glasso\n",
      "✓ subject: 011S0021, Denoising Strategy: 36p, Correlation Type: glasso\n",
      "✓ subject: 168S6098, Denoising Strategy: 36p, Correlation Type: glasso\n",
      "✓ subject: 002S2043, Denoising Strategy: 36p, Correlation Type: glasso\n",
      "✓ subject: 116S4453, Denoising Strategy: 36p, Correlation Type: glasso\n",
      "✓ subject: 023S1190, Denoising Strategy: 36p, Correlation Type: glasso\n",
      "✓ subject: 041S4510, Denoising Strategy: 36p, Correlation Type: glasso\n",
      "✓ subject: 068S4067, Denoising Strategy: 36p, Correlation Type: glasso\n",
      "✓ subject: 013S5071, Denoising Strategy: 36p, Correlation Type: glasso\n",
      "✓ subject: 002S4746, Denoising Strategy: 36p, Correlation Type: glasso\n",
      "✓ subject: 941S4187, Denoising Strategy: 36p, Correlation Type: glasso\n",
      "✓ subject: 036S6189, Denoising Strategy: 36p, Correlation Type: glasso\n",
      "✓ subject: 941S6094, Denoising Strategy: 36p, Correlation Type: glasso\n",
      "✓ subject: 006S4363, Denoising Strategy: 36p, Correlation Type: glasso\n",
      "✓ subject: 037S4706, Denoising Strategy: 36p, Correlation Type: glasso\n",
      "✓ subject: 130S4641, Denoising Strategy: 36p, Correlation Type: glasso\n",
      "✓ subject: 012S4987, Denoising Strategy: 36p, Correlation Type: glasso\n",
      "✓ subject: 137S4536, Denoising Strategy: 36p, Correlation Type: glasso\n",
      "✓ subject: 002S4262, Denoising Strategy: 36p, Correlation Type: glasso\n",
      "✓ subject: 018S4696, Denoising Strategy: 36p, Correlation Type: glasso\n",
      "✓ subject: 002S4219, Denoising Strategy: 36p, Correlation Type: glasso\n",
      "✓ subject: 014S2308, Denoising Strategy: 36p, Correlation Type: glasso\n",
      "✓ subject: 018S4313, Denoising Strategy: 36p, Correlation Type: glasso\n",
      "✓ subject: 006S4346, Denoising Strategy: 36p, Correlation Type: glasso\n",
      "✓ subject: 041S6159, Denoising Strategy: 36p, Correlation Type: glasso\n",
      "✓ subject: 068S2315, Denoising Strategy: 36p, Correlation Type: glasso\n",
      "✓ subject: 002S2010, Denoising Strategy: 36p, Correlation Type: glasso\n",
      "✓ subject: 130S4984, Denoising Strategy: 36p, Correlation Type: glasso\n",
      "✓ subject: 100S5106, Denoising Strategy: 36p, Correlation Type: glasso\n",
      "✓ subject: 130S5231, Denoising Strategy: 36p, Correlation Type: glasso\n",
      "✓ subject: 114S6063, Denoising Strategy: 36p, Correlation Type: glasso\n",
      "✓ subject: 168S6085, Denoising Strategy: 36p, Correlation Type: glasso\n",
      "✓ subject: 018S4733, Denoising Strategy: 36p, Correlation Type: glasso\n",
      "✓ subject: 019S4252, Denoising Strategy: 36p, Correlation Type: glasso\n",
      "✓ subject: 137S4299, Denoising Strategy: 36p, Correlation Type: glasso\n",
      "✓ subject: 035S4414, Denoising Strategy: 36p, Correlation Type: glasso\n",
      "✓ subject: 053S5070, Denoising Strategy: 36p, Correlation Type: glasso\n",
      "✓ subject: 037S4214, Denoising Strategy: 36p, Correlation Type: glasso\n",
      "✓ subject: 013S4395, Denoising Strategy: 36p, Correlation Type: glasso\n",
      "✓ subject: 013S4236, Denoising Strategy: 36p, Correlation Type: glasso\n",
      "✓ subject: 041S4513, Denoising Strategy: 36p, Correlation Type: glasso\n",
      "✓ subject: 053S5208, Denoising Strategy: 36p, Correlation Type: glasso\n",
      "✓ subject: 068S4431, Denoising Strategy: 36p, Correlation Type: glasso\n",
      "✓ subject: 041S6192, Denoising Strategy: 36p, Correlation Type: glasso\n",
      "✓ subject: 006S4867, Denoising Strategy: 36p, Correlation Type: glasso\n",
      "✓ subject: 136S4993, Denoising Strategy: 36p, Correlation Type: glasso\n",
      "✓ subject: 012S4094, Denoising Strategy: 36p, Correlation Type: glasso\n",
      "✓ subject: 003S4288, Denoising Strategy: 36p, Correlation Type: glasso\n",
      "✓ subject: 003S4354, Denoising Strategy: 36p, Correlation Type: glasso\n",
      "✓ subject: 130S4990, Denoising Strategy: 36p, Correlation Type: glasso\n",
      "✓ subject: 006S4960, Denoising Strategy: 36p, Correlation Type: glasso\n",
      "✓ subject: 130S5059, Denoising Strategy: 36p, Correlation Type: glasso\n",
      "✓ subject: 019S5012, Denoising Strategy: 36p, Correlation Type: glasso\n",
      "✓ subject: 094S2238, Denoising Strategy: 36p, Correlation Type: glasso\n",
      "✓ subject: 094S2201, Denoising Strategy: 36p, Correlation Type: glasso\n",
      "✓ subject: 002S5018, Denoising Strategy: 36p, Correlation Type: glasso\n",
      "✓ subject: 031S4032, Denoising Strategy: 36p, Correlation Type: glasso\n",
      "✓ subject: 037S4028, Denoising Strategy: 36p, Correlation Type: glasso\n",
      "✓ subject: 019S4549, Denoising Strategy: 36p, Correlation Type: glasso\n",
      "✓ subject: 114S0416, Denoising Strategy: 36p, Correlation Type: glasso\n",
      "✓ subject: 130S4971, Denoising Strategy: 36p, Correlation Type: glasso\n",
      "✓ subject: 002S4799, Denoising Strategy: 36p, Correlation Type: glasso\n"
     ]
    }
   ],
   "source": [
    "nm.compute_measures_ws(\n",
    "    subjects=subjects.corr_constructed,\n",
    "    denoising_strategies=denoising_strategies,\n",
    "    correlation_types=['glasso'],sign='both')"
   ]
  },
  {
   "cell_type": "code",
   "execution_count": null,
   "metadata": {},
   "outputs": [],
   "source": []
  }
 ],
 "metadata": {
  "kernelspec": {
   "display_name": "Python 3",
   "language": "python",
   "name": "python3"
  },
  "language_info": {
   "codemirror_mode": {
    "name": "ipython",
    "version": 3
   },
   "file_extension": ".py",
   "mimetype": "text/x-python",
   "name": "python",
   "nbconvert_exporter": "python",
   "pygments_lexer": "ipython3",
   "version": "3.6.9"
  }
 },
 "nbformat": 4,
 "nbformat_minor": 4
}
