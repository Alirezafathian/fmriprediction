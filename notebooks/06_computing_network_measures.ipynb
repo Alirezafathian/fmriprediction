{
 "cells": [
  {
   "cell_type": "markdown",
   "metadata": {},
   "source": [
    "|<font size=\"5\">Computing Network Measures</font>|\n",
    "|------------------------------------------------|"
   ]
  },
  {
   "cell_type": "markdown",
   "metadata": {},
   "source": [
    "### Import"
   ]
  },
  {
   "cell_type": "code",
   "execution_count": 1,
   "metadata": {},
   "outputs": [],
   "source": [
    "import src.network_measures.network_measures as nm\n",
    "from src.data import subjects\n",
    "from config import *\n",
    "import networkx as nx"
   ]
  },
  {
   "cell_type": "markdown",
   "metadata": {},
   "source": [
    "### Finding out subjects that are not processed yet"
   ]
  },
  {
   "cell_type": "code",
   "execution_count": 5,
   "metadata": {},
   "outputs": [],
   "source": [
    "not_processed = subjects.to_compute_measures\n",
    "not_processed\n",
    "not_processed = [['011S4547','137S4299','137S4351','068S2184','012S4188','068S4431','082S2121','041S4974','002S4473','094S2201','041S4513','037S4706','012S4987','137S4536','068S2315']]"
   ]
  },
  {
   "cell_type": "markdown",
   "metadata": {},
   "source": [
    "### Compute and save global and local measures for both network and its giant component"
   ]
  },
  {
   "cell_type": "code",
   "execution_count": 6,
   "metadata": {
    "scrolled": false
   },
   "outputs": [
    {
     "name": "stdout",
     "output_type": "stream",
     "text": [
      "✓ subject: 011S4547, Denoising Strategy: 9p, Correlation Type: pearson, Thresholding Methods: gce\n",
      "✓ subject: 011S4547, Denoising Strategy: 9p, Correlation Type: pearson, Thresholding Methods: userdefined-0.050\n",
      "✓ subject: 011S4547, Denoising Strategy: 36p, Correlation Type: pearson, Thresholding Methods: gce\n",
      "✓ subject: 011S4547, Denoising Strategy: 36p, Correlation Type: pearson, Thresholding Methods: userdefined-0.050\n",
      "✓ subject: 011S4547, Denoising Strategy: 36pscrubbed, Correlation Type: pearson, Thresholding Methods: gce\n",
      "✓ subject: 011S4547, Denoising Strategy: 36pscrubbed, Correlation Type: pearson, Thresholding Methods: userdefined-0.050\n",
      "✓ subject: 137S4299, Denoising Strategy: 9p, Correlation Type: pearson, Thresholding Methods: gce\n",
      "✓ subject: 137S4299, Denoising Strategy: 9p, Correlation Type: pearson, Thresholding Methods: userdefined-0.050\n",
      "✓ subject: 137S4299, Denoising Strategy: 36p, Correlation Type: pearson, Thresholding Methods: gce\n",
      "✓ subject: 137S4299, Denoising Strategy: 36p, Correlation Type: pearson, Thresholding Methods: userdefined-0.050\n",
      "✓ subject: 137S4299, Denoising Strategy: 36pscrubbed, Correlation Type: pearson, Thresholding Methods: gce\n",
      "✓ subject: 137S4299, Denoising Strategy: 36pscrubbed, Correlation Type: pearson, Thresholding Methods: userdefined-0.050\n",
      "✓ subject: 137S4351, Denoising Strategy: 9p, Correlation Type: pearson, Thresholding Methods: gce\n",
      "✓ subject: 137S4351, Denoising Strategy: 9p, Correlation Type: pearson, Thresholding Methods: userdefined-0.050\n",
      "✓ subject: 137S4351, Denoising Strategy: 36p, Correlation Type: pearson, Thresholding Methods: gce\n",
      "✓ subject: 137S4351, Denoising Strategy: 36p, Correlation Type: pearson, Thresholding Methods: userdefined-0.050\n",
      "✓ subject: 137S4351, Denoising Strategy: 36pscrubbed, Correlation Type: pearson, Thresholding Methods: gce\n",
      "✓ subject: 137S4351, Denoising Strategy: 36pscrubbed, Correlation Type: pearson, Thresholding Methods: userdefined-0.050\n",
      "✓ subject: 068S2184, Denoising Strategy: 9p, Correlation Type: pearson, Thresholding Methods: gce\n",
      "✓ subject: 068S2184, Denoising Strategy: 9p, Correlation Type: pearson, Thresholding Methods: userdefined-0.050\n",
      "✓ subject: 068S2184, Denoising Strategy: 36p, Correlation Type: pearson, Thresholding Methods: gce\n",
      "✓ subject: 068S2184, Denoising Strategy: 36p, Correlation Type: pearson, Thresholding Methods: userdefined-0.050\n",
      "✓ subject: 068S2184, Denoising Strategy: 36pscrubbed, Correlation Type: pearson, Thresholding Methods: gce\n",
      "✓ subject: 068S2184, Denoising Strategy: 36pscrubbed, Correlation Type: pearson, Thresholding Methods: userdefined-0.050\n",
      "✓ subject: 012S4188, Denoising Strategy: 9p, Correlation Type: pearson, Thresholding Methods: gce\n",
      "✓ subject: 012S4188, Denoising Strategy: 9p, Correlation Type: pearson, Thresholding Methods: userdefined-0.050\n",
      "✓ subject: 012S4188, Denoising Strategy: 36p, Correlation Type: pearson, Thresholding Methods: gce\n",
      "✓ subject: 012S4188, Denoising Strategy: 36p, Correlation Type: pearson, Thresholding Methods: userdefined-0.050\n",
      "✓ subject: 012S4188, Denoising Strategy: 36pscrubbed, Correlation Type: pearson, Thresholding Methods: gce\n",
      "✓ subject: 012S4188, Denoising Strategy: 36pscrubbed, Correlation Type: pearson, Thresholding Methods: userdefined-0.050\n",
      "✓ subject: 068S4431, Denoising Strategy: 9p, Correlation Type: pearson, Thresholding Methods: gce\n",
      "✓ subject: 068S4431, Denoising Strategy: 9p, Correlation Type: pearson, Thresholding Methods: userdefined-0.050\n",
      "✓ subject: 068S4431, Denoising Strategy: 36p, Correlation Type: pearson, Thresholding Methods: gce\n",
      "✓ subject: 068S4431, Denoising Strategy: 36p, Correlation Type: pearson, Thresholding Methods: userdefined-0.050\n",
      "✓ subject: 068S4431, Denoising Strategy: 36pscrubbed, Correlation Type: pearson, Thresholding Methods: gce\n",
      "✓ subject: 068S4431, Denoising Strategy: 36pscrubbed, Correlation Type: pearson, Thresholding Methods: userdefined-0.050\n",
      "✓ subject: 082S2121, Denoising Strategy: 9p, Correlation Type: pearson, Thresholding Methods: gce\n",
      "✓ subject: 082S2121, Denoising Strategy: 9p, Correlation Type: pearson, Thresholding Methods: userdefined-0.050\n",
      "✓ subject: 082S2121, Denoising Strategy: 36p, Correlation Type: pearson, Thresholding Methods: gce\n",
      "✓ subject: 082S2121, Denoising Strategy: 36p, Correlation Type: pearson, Thresholding Methods: userdefined-0.050\n",
      "✓ subject: 082S2121, Denoising Strategy: 36pscrubbed, Correlation Type: pearson, Thresholding Methods: gce\n",
      "✓ subject: 082S2121, Denoising Strategy: 36pscrubbed, Correlation Type: pearson, Thresholding Methods: userdefined-0.050\n",
      "✓ subject: 041S4974, Denoising Strategy: 9p, Correlation Type: pearson, Thresholding Methods: gce\n",
      "✓ subject: 041S4974, Denoising Strategy: 9p, Correlation Type: pearson, Thresholding Methods: userdefined-0.050\n",
      "✓ subject: 041S4974, Denoising Strategy: 36p, Correlation Type: pearson, Thresholding Methods: gce\n",
      "✓ subject: 041S4974, Denoising Strategy: 36p, Correlation Type: pearson, Thresholding Methods: userdefined-0.050\n",
      "✓ subject: 041S4974, Denoising Strategy: 36pscrubbed, Correlation Type: pearson, Thresholding Methods: gce\n",
      "✓ subject: 041S4974, Denoising Strategy: 36pscrubbed, Correlation Type: pearson, Thresholding Methods: userdefined-0.050\n",
      "✓ subject: 002S4473, Denoising Strategy: 9p, Correlation Type: pearson, Thresholding Methods: gce\n",
      "✓ subject: 002S4473, Denoising Strategy: 9p, Correlation Type: pearson, Thresholding Methods: userdefined-0.050\n",
      "✓ subject: 002S4473, Denoising Strategy: 36p, Correlation Type: pearson, Thresholding Methods: gce\n",
      "✓ subject: 002S4473, Denoising Strategy: 36p, Correlation Type: pearson, Thresholding Methods: userdefined-0.050\n",
      "✓ subject: 002S4473, Denoising Strategy: 36pscrubbed, Correlation Type: pearson, Thresholding Methods: gce\n",
      "✓ subject: 002S4473, Denoising Strategy: 36pscrubbed, Correlation Type: pearson, Thresholding Methods: userdefined-0.050\n",
      "✓ subject: 094S2201, Denoising Strategy: 9p, Correlation Type: pearson, Thresholding Methods: gce\n",
      "✓ subject: 094S2201, Denoising Strategy: 9p, Correlation Type: pearson, Thresholding Methods: userdefined-0.050\n",
      "✓ subject: 094S2201, Denoising Strategy: 36p, Correlation Type: pearson, Thresholding Methods: gce\n",
      "✓ subject: 094S2201, Denoising Strategy: 36p, Correlation Type: pearson, Thresholding Methods: userdefined-0.050\n",
      "✓ subject: 094S2201, Denoising Strategy: 36pscrubbed, Correlation Type: pearson, Thresholding Methods: gce\n",
      "✓ subject: 094S2201, Denoising Strategy: 36pscrubbed, Correlation Type: pearson, Thresholding Methods: userdefined-0.050\n",
      "✓ subject: 041S4513, Denoising Strategy: 9p, Correlation Type: pearson, Thresholding Methods: gce\n",
      "✓ subject: 041S4513, Denoising Strategy: 9p, Correlation Type: pearson, Thresholding Methods: userdefined-0.050\n",
      "✓ subject: 041S4513, Denoising Strategy: 36p, Correlation Type: pearson, Thresholding Methods: gce\n",
      "✓ subject: 041S4513, Denoising Strategy: 36p, Correlation Type: pearson, Thresholding Methods: userdefined-0.050\n",
      "✓ subject: 041S4513, Denoising Strategy: 36pscrubbed, Correlation Type: pearson, Thresholding Methods: gce\n",
      "✓ subject: 041S4513, Denoising Strategy: 36pscrubbed, Correlation Type: pearson, Thresholding Methods: userdefined-0.050\n",
      "✓ subject: 037S4706, Denoising Strategy: 9p, Correlation Type: pearson, Thresholding Methods: gce\n",
      "✓ subject: 037S4706, Denoising Strategy: 9p, Correlation Type: pearson, Thresholding Methods: userdefined-0.050\n",
      "✓ subject: 037S4706, Denoising Strategy: 36p, Correlation Type: pearson, Thresholding Methods: gce\n",
      "✓ subject: 037S4706, Denoising Strategy: 36p, Correlation Type: pearson, Thresholding Methods: userdefined-0.050\n",
      "✓ subject: 037S4706, Denoising Strategy: 36pscrubbed, Correlation Type: pearson, Thresholding Methods: gce\n",
      "✓ subject: 037S4706, Denoising Strategy: 36pscrubbed, Correlation Type: pearson, Thresholding Methods: userdefined-0.050\n",
      "✓ subject: 012S4987, Denoising Strategy: 9p, Correlation Type: pearson, Thresholding Methods: gce\n",
      "✓ subject: 012S4987, Denoising Strategy: 9p, Correlation Type: pearson, Thresholding Methods: userdefined-0.050\n",
      "✓ subject: 012S4987, Denoising Strategy: 36p, Correlation Type: pearson, Thresholding Methods: gce\n",
      "✓ subject: 012S4987, Denoising Strategy: 36p, Correlation Type: pearson, Thresholding Methods: userdefined-0.050\n"
     ]
    },
    {
     "name": "stdout",
     "output_type": "stream",
     "text": [
      "✓ subject: 012S4987, Denoising Strategy: 36pscrubbed, Correlation Type: pearson, Thresholding Methods: gce\n",
      "✓ subject: 012S4987, Denoising Strategy: 36pscrubbed, Correlation Type: pearson, Thresholding Methods: userdefined-0.050\n",
      "✓ subject: 137S4536, Denoising Strategy: 9p, Correlation Type: pearson, Thresholding Methods: gce\n",
      "✓ subject: 137S4536, Denoising Strategy: 9p, Correlation Type: pearson, Thresholding Methods: userdefined-0.050\n",
      "✓ subject: 137S4536, Denoising Strategy: 36p, Correlation Type: pearson, Thresholding Methods: gce\n",
      "✓ subject: 137S4536, Denoising Strategy: 36p, Correlation Type: pearson, Thresholding Methods: userdefined-0.050\n",
      "✓ subject: 137S4536, Denoising Strategy: 36pscrubbed, Correlation Type: pearson, Thresholding Methods: gce\n",
      "✓ subject: 137S4536, Denoising Strategy: 36pscrubbed, Correlation Type: pearson, Thresholding Methods: userdefined-0.050\n",
      "✓ subject: 068S2315, Denoising Strategy: 9p, Correlation Type: pearson, Thresholding Methods: gce\n",
      "✓ subject: 068S2315, Denoising Strategy: 9p, Correlation Type: pearson, Thresholding Methods: userdefined-0.050\n",
      "✓ subject: 068S2315, Denoising Strategy: 36p, Correlation Type: pearson, Thresholding Methods: gce\n",
      "✓ subject: 068S2315, Denoising Strategy: 36p, Correlation Type: pearson, Thresholding Methods: userdefined-0.050\n",
      "✓ subject: 068S2315, Denoising Strategy: 36pscrubbed, Correlation Type: pearson, Thresholding Methods: gce\n",
      "✓ subject: 068S2315, Denoising Strategy: 36pscrubbed, Correlation Type: pearson, Thresholding Methods: userdefined-0.050\n"
     ]
    }
   ],
   "source": [
    "nm.compute_measures(not_processed[0],\n",
    "                    denoising_strategies,\n",
    "                    correlation_types,\n",
    "                    thresholding_methods,\n",
    "                    thresholding_values)"
   ]
  },
  {
   "cell_type": "markdown",
   "metadata": {},
   "source": [
    "### Computing new measures and adding them to the old measures"
   ]
  },
  {
   "cell_type": "markdown",
   "metadata": {},
   "source": [
    "Defining new measure:"
   ]
  },
  {
   "cell_type": "code",
   "execution_count": 7,
   "metadata": {},
   "outputs": [],
   "source": [
    "def strength(G):\n",
    "    import networkx as nx\n",
    "    return (dict(G.degree(weight= 'weight')))"
   ]
  },
  {
   "cell_type": "markdown",
   "metadata": {},
   "source": [
    "Compute this measure and add it to the measure tabales:"
   ]
  },
  {
   "cell_type": "code",
   "execution_count": 8,
   "metadata": {
    "scrolled": false
   },
   "outputs": [
    {
     "name": "stdout",
     "output_type": "stream",
     "text": [
      "011S4547 9p gce pearson\n",
      "011S4547 9p userdefined-0.050 pearson\n",
      "011S4547 36p gce pearson\n",
      "011S4547 36p userdefined-0.050 pearson\n",
      "011S4547 36pscrubbed gce pearson\n",
      "011S4547 36pscrubbed userdefined-0.050 pearson\n",
      "137S4299 9p gce pearson\n",
      "137S4299 9p userdefined-0.050 pearson\n",
      "137S4299 36p gce pearson\n",
      "137S4299 36p userdefined-0.050 pearson\n",
      "137S4299 36pscrubbed gce pearson\n",
      "137S4299 36pscrubbed userdefined-0.050 pearson\n",
      "137S4351 9p gce pearson\n",
      "137S4351 9p userdefined-0.050 pearson\n",
      "137S4351 36p gce pearson\n",
      "137S4351 36p userdefined-0.050 pearson\n",
      "137S4351 36pscrubbed gce pearson\n",
      "137S4351 36pscrubbed userdefined-0.050 pearson\n",
      "068S2184 9p gce pearson\n",
      "068S2184 9p userdefined-0.050 pearson\n",
      "068S2184 36p gce pearson\n",
      "068S2184 36p userdefined-0.050 pearson\n",
      "068S2184 36pscrubbed gce pearson\n",
      "068S2184 36pscrubbed userdefined-0.050 pearson\n",
      "012S4188 9p gce pearson\n",
      "012S4188 9p userdefined-0.050 pearson\n",
      "012S4188 36p gce pearson\n",
      "012S4188 36p userdefined-0.050 pearson\n",
      "012S4188 36pscrubbed gce pearson\n",
      "012S4188 36pscrubbed userdefined-0.050 pearson\n",
      "068S4431 9p gce pearson\n",
      "068S4431 9p userdefined-0.050 pearson\n",
      "068S4431 36p gce pearson\n",
      "068S4431 36p userdefined-0.050 pearson\n",
      "068S4431 36pscrubbed gce pearson\n",
      "068S4431 36pscrubbed userdefined-0.050 pearson\n",
      "082S2121 9p gce pearson\n",
      "082S2121 9p userdefined-0.050 pearson\n",
      "082S2121 36p gce pearson\n",
      "082S2121 36p userdefined-0.050 pearson\n",
      "082S2121 36pscrubbed gce pearson\n",
      "082S2121 36pscrubbed userdefined-0.050 pearson\n",
      "041S4974 9p gce pearson\n",
      "041S4974 9p userdefined-0.050 pearson\n",
      "041S4974 36p gce pearson\n",
      "041S4974 36p userdefined-0.050 pearson\n",
      "041S4974 36pscrubbed gce pearson\n",
      "041S4974 36pscrubbed userdefined-0.050 pearson\n",
      "002S4473 9p gce pearson\n",
      "002S4473 9p userdefined-0.050 pearson\n",
      "002S4473 36p gce pearson\n",
      "002S4473 36p userdefined-0.050 pearson\n",
      "002S4473 36pscrubbed gce pearson\n",
      "002S4473 36pscrubbed userdefined-0.050 pearson\n",
      "094S2201 9p gce pearson\n",
      "094S2201 9p userdefined-0.050 pearson\n",
      "094S2201 36p gce pearson\n",
      "094S2201 36p userdefined-0.050 pearson\n",
      "094S2201 36pscrubbed gce pearson\n",
      "094S2201 36pscrubbed userdefined-0.050 pearson\n",
      "041S4513 9p gce pearson\n",
      "041S4513 9p userdefined-0.050 pearson\n",
      "041S4513 36p gce pearson\n",
      "041S4513 36p userdefined-0.050 pearson\n",
      "041S4513 36pscrubbed gce pearson\n",
      "041S4513 36pscrubbed userdefined-0.050 pearson\n",
      "037S4706 9p gce pearson\n",
      "037S4706 9p userdefined-0.050 pearson\n",
      "037S4706 36p gce pearson\n",
      "037S4706 36p userdefined-0.050 pearson\n",
      "037S4706 36pscrubbed gce pearson\n",
      "037S4706 36pscrubbed userdefined-0.050 pearson\n",
      "012S4987 9p gce pearson\n",
      "012S4987 9p userdefined-0.050 pearson\n",
      "012S4987 36p gce pearson\n",
      "012S4987 36p userdefined-0.050 pearson\n",
      "012S4987 36pscrubbed gce pearson\n",
      "012S4987 36pscrubbed userdefined-0.050 pearson\n",
      "137S4536 9p gce pearson\n",
      "137S4536 9p userdefined-0.050 pearson\n",
      "137S4536 36p gce pearson\n",
      "137S4536 36p userdefined-0.050 pearson\n",
      "137S4536 36pscrubbed gce pearson\n",
      "137S4536 36pscrubbed userdefined-0.050 pearson\n",
      "068S2315 9p gce pearson\n",
      "068S2315 9p userdefined-0.050 pearson\n",
      "068S2315 36p gce pearson\n",
      "068S2315 36p userdefined-0.050 pearson\n",
      "068S2315 36pscrubbed gce pearson\n",
      "068S2315 36pscrubbed userdefined-0.050 pearson\n"
     ]
    }
   ],
   "source": [
    "nm.add_measure('local','disconnected','weighted',\n",
    "              strength,'strength',\n",
    "              not_processed[0],\n",
    "              denoising_strategies,\n",
    "               thresholding_methods)"
   ]
  },
  {
   "cell_type": "code",
   "execution_count": 9,
   "metadata": {},
   "outputs": [
    {
     "name": "stdout",
     "output_type": "stream",
     "text": [
      "011S4547 9p gce pearson\n",
      "011S4547 9p userdefined-0.050 pearson\n",
      "011S4547 36p gce pearson\n",
      "011S4547 36p userdefined-0.050 pearson\n",
      "011S4547 36pscrubbed gce pearson\n",
      "011S4547 36pscrubbed userdefined-0.050 pearson\n",
      "137S4299 9p gce pearson\n",
      "137S4299 9p userdefined-0.050 pearson\n",
      "137S4299 36p gce pearson\n",
      "137S4299 36p userdefined-0.050 pearson\n",
      "137S4299 36pscrubbed gce pearson\n",
      "137S4299 36pscrubbed userdefined-0.050 pearson\n",
      "137S4351 9p gce pearson\n",
      "137S4351 9p userdefined-0.050 pearson\n",
      "137S4351 36p gce pearson\n",
      "137S4351 36p userdefined-0.050 pearson\n",
      "137S4351 36pscrubbed gce pearson\n",
      "137S4351 36pscrubbed userdefined-0.050 pearson\n",
      "068S2184 9p gce pearson\n",
      "068S2184 9p userdefined-0.050 pearson\n",
      "068S2184 36p gce pearson\n",
      "068S2184 36p userdefined-0.050 pearson\n",
      "068S2184 36pscrubbed gce pearson\n",
      "068S2184 36pscrubbed userdefined-0.050 pearson\n",
      "012S4188 9p gce pearson\n",
      "012S4188 9p userdefined-0.050 pearson\n",
      "012S4188 36p gce pearson\n",
      "012S4188 36p userdefined-0.050 pearson\n",
      "012S4188 36pscrubbed gce pearson\n",
      "012S4188 36pscrubbed userdefined-0.050 pearson\n",
      "068S4431 9p gce pearson\n",
      "068S4431 9p userdefined-0.050 pearson\n",
      "068S4431 36p gce pearson\n",
      "068S4431 36p userdefined-0.050 pearson\n",
      "068S4431 36pscrubbed gce pearson\n",
      "068S4431 36pscrubbed userdefined-0.050 pearson\n",
      "082S2121 9p gce pearson\n",
      "082S2121 9p userdefined-0.050 pearson\n",
      "082S2121 36p gce pearson\n",
      "082S2121 36p userdefined-0.050 pearson\n",
      "082S2121 36pscrubbed gce pearson\n",
      "082S2121 36pscrubbed userdefined-0.050 pearson\n",
      "041S4974 9p gce pearson\n",
      "041S4974 9p userdefined-0.050 pearson\n",
      "041S4974 36p gce pearson\n",
      "041S4974 36p userdefined-0.050 pearson\n",
      "041S4974 36pscrubbed gce pearson\n",
      "041S4974 36pscrubbed userdefined-0.050 pearson\n",
      "002S4473 9p gce pearson\n",
      "002S4473 9p userdefined-0.050 pearson\n",
      "002S4473 36p gce pearson\n",
      "002S4473 36p userdefined-0.050 pearson\n",
      "002S4473 36pscrubbed gce pearson\n",
      "002S4473 36pscrubbed userdefined-0.050 pearson\n",
      "094S2201 9p gce pearson\n",
      "094S2201 9p userdefined-0.050 pearson\n",
      "094S2201 36p gce pearson\n",
      "094S2201 36p userdefined-0.050 pearson\n",
      "094S2201 36pscrubbed gce pearson\n",
      "094S2201 36pscrubbed userdefined-0.050 pearson\n",
      "041S4513 9p gce pearson\n",
      "041S4513 9p userdefined-0.050 pearson\n",
      "041S4513 36p gce pearson\n",
      "041S4513 36p userdefined-0.050 pearson\n",
      "041S4513 36pscrubbed gce pearson\n",
      "041S4513 36pscrubbed userdefined-0.050 pearson\n",
      "037S4706 9p gce pearson\n",
      "037S4706 9p userdefined-0.050 pearson\n",
      "037S4706 36p gce pearson\n",
      "037S4706 36p userdefined-0.050 pearson\n",
      "037S4706 36pscrubbed gce pearson\n",
      "037S4706 36pscrubbed userdefined-0.050 pearson\n",
      "012S4987 9p gce pearson\n",
      "012S4987 9p userdefined-0.050 pearson\n",
      "012S4987 36p gce pearson\n",
      "012S4987 36p userdefined-0.050 pearson\n",
      "012S4987 36pscrubbed gce pearson\n",
      "012S4987 36pscrubbed userdefined-0.050 pearson\n",
      "137S4536 9p gce pearson\n",
      "137S4536 9p userdefined-0.050 pearson\n",
      "137S4536 36p gce pearson\n",
      "137S4536 36p userdefined-0.050 pearson\n",
      "137S4536 36pscrubbed gce pearson\n",
      "137S4536 36pscrubbed userdefined-0.050 pearson\n",
      "068S2315 9p gce pearson\n",
      "068S2315 9p userdefined-0.050 pearson\n",
      "068S2315 36p gce pearson\n",
      "068S2315 36p userdefined-0.050 pearson\n",
      "068S2315 36pscrubbed gce pearson\n",
      "068S2315 36pscrubbed userdefined-0.050 pearson\n"
     ]
    }
   ],
   "source": [
    "nm.add_measure('global','disconnected','binary',\n",
    "              nx.degree_assortativity_coefficient,\n",
    "              'degree_assortativity_coefficient',\n",
    "              not_processed[0],\n",
    "              denoising_strategies,thresholding_methods)"
   ]
  },
  {
   "cell_type": "code",
   "execution_count": null,
   "metadata": {},
   "outputs": [],
   "source": []
  }
 ],
 "metadata": {
  "kernelspec": {
   "display_name": "Python 3",
   "language": "python",
   "name": "python3"
  },
  "language_info": {
   "codemirror_mode": {
    "name": "ipython",
    "version": 3
   },
   "file_extension": ".py",
   "mimetype": "text/x-python",
   "name": "python",
   "nbconvert_exporter": "python",
   "pygments_lexer": "ipython3",
   "version": "3.6.9"
  }
 },
 "nbformat": 4,
 "nbformat_minor": 4
}
