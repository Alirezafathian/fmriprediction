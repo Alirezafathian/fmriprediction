{
 "cells": [
  {
   "cell_type": "markdown",
   "metadata": {},
   "source": [
    "|<font size=\"5\">Computing Network Measures</font>|\n",
    "|------------------------------------------------|"
   ]
  },
  {
   "cell_type": "markdown",
   "metadata": {},
   "source": [
    "### Import"
   ]
  },
  {
   "cell_type": "code",
   "execution_count": 1,
   "metadata": {},
   "outputs": [],
   "source": [
    "import src.network_measures.network_measures as nm\n",
    "from src.data import subjects\n",
    "from config import *\n",
    "import networkx as nx"
   ]
  },
  {
   "cell_type": "markdown",
   "metadata": {},
   "source": [
    "### Finding out subjects that are not processed yet"
   ]
  },
  {
   "cell_type": "code",
   "execution_count": 2,
   "metadata": {},
   "outputs": [
    {
     "data": {
      "text/plain": [
       "[['014S2308'],\n",
       " [['003S4354', '9p', 'userdefined-0.050'],\n",
       "  ['003S4354', '36p', 'gce'],\n",
       "  ['003S4354', '36p', 'userdefined-0.050'],\n",
       "  ['003S4354', '36pscrubbed', 'gce'],\n",
       "  ['003S4354', '36pscrubbed', 'userdefined-0.050']]]"
      ]
     },
     "execution_count": 2,
     "metadata": {},
     "output_type": "execute_result"
    }
   ],
   "source": [
    "not_processed = subjects.to_compute_measures\n",
    "not_processed\n",
    "#not_processed = [['011S4893']]"
   ]
  },
  {
   "cell_type": "markdown",
   "metadata": {},
   "source": [
    "### Compute and save global and local measures for both network and its giant component"
   ]
  },
  {
   "cell_type": "code",
   "execution_count": 6,
   "metadata": {
    "scrolled": false
   },
   "outputs": [
    {
     "name": "stdout",
     "output_type": "stream",
     "text": [
      "✓ subject: 011S4893, Denoising Strategy: 9p, Correlation Type: pearson, Thresholding Methods: gce\n",
      "✓ subject: 011S4893, Denoising Strategy: 9p, Correlation Type: pearson, Thresholding Methods: userdefined-0.050\n",
      "✓ subject: 011S4893, Denoising Strategy: 36p, Correlation Type: pearson, Thresholding Methods: gce\n",
      "✓ subject: 011S4893, Denoising Strategy: 36p, Correlation Type: pearson, Thresholding Methods: userdefined-0.050\n",
      "✓ subject: 011S4893, Denoising Strategy: 36pscrubbed, Correlation Type: pearson, Thresholding Methods: gce\n",
      "✓ subject: 011S4893, Denoising Strategy: 36pscrubbed, Correlation Type: pearson, Thresholding Methods: userdefined-0.050\n"
     ]
    }
   ],
   "source": [
    "nm.compute_measures(not_processed[0],\n",
    "                    denoising_strategies,\n",
    "                    correlation_types,\n",
    "                    thresholding_methods,\n",
    "                    thresholding_values)"
   ]
  },
  {
   "cell_type": "markdown",
   "metadata": {},
   "source": [
    "### Computing new measures and adding them to the old measures"
   ]
  },
  {
   "cell_type": "markdown",
   "metadata": {},
   "source": [
    "Defining new measure:"
   ]
  },
  {
   "cell_type": "code",
   "execution_count": 7,
   "metadata": {},
   "outputs": [],
   "source": [
    "def strength(G):\n",
    "    import networkx as nx\n",
    "    return (dict(G.degree(weight= 'weight')))"
   ]
  },
  {
   "cell_type": "markdown",
   "metadata": {},
   "source": [
    "Compute this measure and add it to the measure tabales:"
   ]
  },
  {
   "cell_type": "code",
   "execution_count": 8,
   "metadata": {
    "scrolled": false
   },
   "outputs": [
    {
     "name": "stdout",
     "output_type": "stream",
     "text": [
      "011S4893 9p gce pearson\n",
      "011S4893 9p userdefined-0.050 pearson\n",
      "011S4893 36p gce pearson\n",
      "011S4893 36p userdefined-0.050 pearson\n",
      "011S4893 36pscrubbed gce pearson\n",
      "011S4893 36pscrubbed userdefined-0.050 pearson\n"
     ]
    }
   ],
   "source": [
    "nm.add_measure('local','disconnected','weighted',\n",
    "              strength,'strength',\n",
    "              not_processed[0],\n",
    "              denoising_strategies,\n",
    "               thresholding_methods)"
   ]
  },
  {
   "cell_type": "code",
   "execution_count": 9,
   "metadata": {},
   "outputs": [
    {
     "name": "stdout",
     "output_type": "stream",
     "text": [
      "011S4893 9p gce pearson\n",
      "011S4893 9p userdefined-0.050 pearson\n",
      "011S4893 36p gce pearson\n",
      "011S4893 36p userdefined-0.050 pearson\n",
      "011S4893 36pscrubbed gce pearson\n",
      "011S4893 36pscrubbed userdefined-0.050 pearson\n"
     ]
    }
   ],
   "source": [
    "nm.add_measure('global','disconnected','binary',\n",
    "              nx.degree_assortativity_coefficient,\n",
    "              'degree_assortativity_coefficient',\n",
    "              not_processed[0],\n",
    "              denoising_strategies,thresholding_methods)"
   ]
  },
  {
   "cell_type": "code",
   "execution_count": null,
   "metadata": {},
   "outputs": [],
   "source": []
  }
 ],
 "metadata": {
  "kernelspec": {
   "display_name": "Python 3",
   "language": "python",
   "name": "python3"
  },
  "language_info": {
   "codemirror_mode": {
    "name": "ipython",
    "version": 3
   },
   "file_extension": ".py",
   "mimetype": "text/x-python",
   "name": "python",
   "nbconvert_exporter": "python",
   "pygments_lexer": "ipython3",
   "version": "3.6.9"
  }
 },
 "nbformat": 4,
 "nbformat_minor": 4
}
