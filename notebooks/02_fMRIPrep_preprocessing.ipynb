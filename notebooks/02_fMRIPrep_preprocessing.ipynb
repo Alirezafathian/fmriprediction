{
 "cells": [
  {
   "cell_type": "markdown",
   "metadata": {},
   "source": [
    "# fMRIPrep Preprocessing"
   ]
  },
  {
   "cell_type": "code",
   "execution_count": 15,
   "metadata": {},
   "outputs": [],
   "source": [
    "from src.data import subjects\n",
    "from config import * \n",
    "path = rootdir + \"/src/fMRIPrep_preprocessing/fMRIPrep_preprocessing.sh\""
   ]
  },
  {
   "cell_type": "markdown",
   "metadata": {},
   "source": [
    "Here is the list of subjects in your dataset that need to be preprocessed:"
   ]
  },
  {
   "cell_type": "code",
   "execution_count": 10,
   "metadata": {},
   "outputs": [
    {
     "name": "stdout",
     "output_type": "stream",
     "text": [
      "['002S4799', '002S4237', '002S2073', '002S2010', '002S2043']\n"
     ]
    }
   ],
   "source": [
    "print(subjects.to_preprocess)"
   ]
  },
  {
   "cell_type": "markdown",
   "metadata": {},
   "source": [
    "In your teminal run \n",
    "```bash \n",
    "bash <rootdir>/src/fMRIPrep_preprocessing/fMRIPrep_preprocessing.sh\n",
    "```\n",
    "and enter the subjects that are not run through preprocessing.\n",
    "\n",
    "< rootdir > is your project directory:"
   ]
  },
  {
   "cell_type": "code",
   "execution_count": 16,
   "metadata": {},
   "outputs": [
    {
     "name": "stdout",
     "output_type": "stream",
     "text": [
      "rootdir =  /home/alireza/Thesis/fmriprediction\n"
     ]
    }
   ],
   "source": [
    "print (\"rootdir = \", rootdir)"
   ]
  },
  {
   "cell_type": "markdown",
   "metadata": {},
   "source": [
    "You can also run fMRIPrep manually:\n",
    "```bash\n",
    "sudo docker run -ti --rm \\\n",
    "\t-v <bids directory>:/bids_dataset:ro \\\n",
    "\t-v <outputs directory>:/outputs \\\n",
    "\t-v <freesurfer license directory>:/opt/freesurfer/license.txt:ro \\\n",
    "\tpoldracklab/fmriprep /bids_dataset /outputs \\\n",
    "\tparticipant --participant_label <participant ID> \\\n",
    "\t--low-mem --notrack --use-aroma \\\n",
    "\t--output-spaces {T1w,MNI152NLin2009cAsym,fsaverage5} \\\n",
    "\t--ignore {fieldmaps,slicetiming}\n",
    "```\n"
   ]
  }
 ],
 "metadata": {
  "kernelspec": {
   "display_name": "Python 3",
   "language": "python",
   "name": "python3"
  },
  "language_info": {
   "codemirror_mode": {
    "name": "ipython",
    "version": 3
   },
   "file_extension": ".py",
   "mimetype": "text/x-python",
   "name": "python",
   "nbconvert_exporter": "python",
   "pygments_lexer": "ipython3",
   "version": "3.6.9"
  }
 },
 "nbformat": 4,
 "nbformat_minor": 4
}
